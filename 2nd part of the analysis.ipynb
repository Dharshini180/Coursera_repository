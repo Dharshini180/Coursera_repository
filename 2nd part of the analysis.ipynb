{
 "cells": [
  {
   "cell_type": "code",
   "execution_count": 1,
   "metadata": {},
   "outputs": [],
   "source": [
    "## LETS READ THE DATA:\n",
    "import pandas as pd\n",
    "import numpy as np"
   ]
  },
  {
   "cell_type": "code",
   "execution_count": 170,
   "metadata": {},
   "outputs": [],
   "source": [
    "data = pd.read_csv(\"analyse_data.csv\")"
   ]
  },
  {
   "cell_type": "code",
   "execution_count": 171,
   "metadata": {},
   "outputs": [
    {
     "name": "stdout",
     "output_type": "stream",
     "text": [
      "           Group M/F  Age  EDUC  SES  MMSE  CDR  eTIV   nWBV    ASF\n",
      "0    Nondemented   M   87    14  2.0  27.0  0.0  1987  0.696  0.883\n",
      "1    Nondemented   M   88    14  2.0  30.0  0.0  2004  0.681  0.876\n",
      "2       Demented   M   75    12  NaN  23.0  0.5  1678  0.736  1.046\n",
      "3       Demented   M   76    12  NaN  28.0  0.5  1738  0.713  1.010\n",
      "4       Demented   M   80    12  NaN  22.0  0.5  1698  0.701  1.034\n",
      "..           ...  ..  ...   ...  ...   ...  ...   ...    ...    ...\n",
      "368     Demented   M   82    16  1.0  28.0  0.5  1693  0.694  1.037\n",
      "369     Demented   M   86    16  1.0  26.0  0.5  1688  0.675  1.040\n",
      "370  Nondemented   F   61    13  2.0  30.0  0.0  1319  0.801  1.331\n",
      "371  Nondemented   F   63    13  2.0  30.0  0.0  1327  0.796  1.323\n",
      "372  Nondemented   F   65    13  2.0  30.0  0.0  1333  0.801  1.317\n",
      "\n",
      "[373 rows x 10 columns]\n"
     ]
    }
   ],
   "source": [
    "print(data)"
   ]
  },
  {
   "cell_type": "code",
   "execution_count": 172,
   "metadata": {},
   "outputs": [],
   "source": [
    "dem_two = data[data['Group']!='Converted']"
   ]
  },
  {
   "cell_type": "code",
   "execution_count": 173,
   "metadata": {},
   "outputs": [
    {
     "name": "stdout",
     "output_type": "stream",
     "text": [
      "           Group M/F  Age  EDUC  SES  MMSE  CDR  eTIV   nWBV    ASF\n",
      "0    Nondemented   M   87    14  2.0  27.0  0.0  1987  0.696  0.883\n",
      "1    Nondemented   M   88    14  2.0  30.0  0.0  2004  0.681  0.876\n",
      "2       Demented   M   75    12  NaN  23.0  0.5  1678  0.736  1.046\n",
      "3       Demented   M   76    12  NaN  28.0  0.5  1738  0.713  1.010\n",
      "4       Demented   M   80    12  NaN  22.0  0.5  1698  0.701  1.034\n",
      "..           ...  ..  ...   ...  ...   ...  ...   ...    ...    ...\n",
      "368     Demented   M   82    16  1.0  28.0  0.5  1693  0.694  1.037\n",
      "369     Demented   M   86    16  1.0  26.0  0.5  1688  0.675  1.040\n",
      "370  Nondemented   F   61    13  2.0  30.0  0.0  1319  0.801  1.331\n",
      "371  Nondemented   F   63    13  2.0  30.0  0.0  1327  0.796  1.323\n",
      "372  Nondemented   F   65    13  2.0  30.0  0.0  1333  0.801  1.317\n",
      "\n",
      "[336 rows x 10 columns]\n"
     ]
    }
   ],
   "source": [
    "print(dem_two)"
   ]
  },
  {
   "cell_type": "code",
   "execution_count": 167,
   "metadata": {},
   "outputs": [
    {
     "name": "stdout",
     "output_type": "stream",
     "text": [
      "           Group M/F  Age  EDUC Age_group  SES  MMSE  CDR  eTIV   nWBV    ASF\n",
      "0    Nondemented   M   87    14         8  2.0  27.0  0.0  1987  0.696  0.883\n",
      "1    Nondemented   M   88    14         8  2.0  30.0  0.0  2004  0.681  0.876\n",
      "2       Demented   M   75    12         7  NaN  23.0  0.5  1678  0.736  1.046\n",
      "3       Demented   M   76    12         7  NaN  28.0  0.5  1738  0.713  1.010\n",
      "4       Demented   M   80    12         7  NaN  22.0  0.5  1698  0.701  1.034\n",
      "..           ...  ..  ...   ...       ...  ...   ...  ...   ...    ...    ...\n",
      "368     Demented   M   82    16         8  1.0  28.0  0.5  1693  0.694  1.037\n",
      "369     Demented   M   86    16         8  1.0  26.0  0.5  1688  0.675  1.040\n",
      "370  Nondemented   F   61    13         6  2.0  30.0  0.0  1319  0.801  1.331\n",
      "371  Nondemented   F   63    13         6  2.0  30.0  0.0  1327  0.796  1.323\n",
      "372  Nondemented   F   65    13         6  2.0  30.0  0.0  1333  0.801  1.317\n",
      "\n",
      "[336 rows x 11 columns]\n"
     ]
    }
   ],
   "source": [
    "cat=pd.cut(dem_two.Age,bins=[60,70,80,90,100],labels=[6,7,8,9])\n",
    "dem_two.insert(4,'Age_group',cat)\n",
    "print(dem_two)"
   ]
  },
  {
   "cell_type": "code",
   "execution_count": 168,
   "metadata": {},
   "outputs": [],
   "source": [
    "cat_2=pd.cut(dem_two.EDUC,bins=[5,10,15,20,25],labels=[0,1,2,3])\n",
    "dem_two.insert(5,'Education',cat_2)"
   ]
  },
  {
   "cell_type": "code",
   "execution_count": 174,
   "metadata": {},
   "outputs": [],
   "source": [
    "clean_up = {\"Group\":{\"Demented\":0,\"Nondemented\":1},\"M/F\":{'M':0,\"F\":1}}"
   ]
  },
  {
   "cell_type": "code",
   "execution_count": 155,
   "metadata": {},
   "outputs": [],
   "source": [
    "dem_two=dem_two.drop('Age',axis=1)\n",
    "#print(demo_two)\n",
    "dem_two=dem_two.drop('EDUC',axis=1)\n",
    "#print(demo_two)"
   ]
  },
  {
   "cell_type": "code",
   "execution_count": 175,
   "metadata": {},
   "outputs": [],
   "source": [
    "dem_two=dem_two.replace(clean_up)"
   ]
  },
  {
   "cell_type": "code",
   "execution_count": 176,
   "metadata": {},
   "outputs": [
    {
     "name": "stdout",
     "output_type": "stream",
     "text": [
      "Categorical variables:\n",
      "[]\n"
     ]
    }
   ],
   "source": [
    "s = (dem_two.dtypes == 'object')\n",
    "object_cols = list(s[s].index)\n",
    "\n",
    "print(\"Categorical variables:\")\n",
    "print(object_cols)"
   ]
  },
  {
   "cell_type": "code",
   "execution_count": 177,
   "metadata": {},
   "outputs": [],
   "source": [
    "Y=dem_two['Group']\n",
    "X=dem_two.drop(['Group'],axis=1)"
   ]
  },
  {
   "cell_type": "code",
   "execution_count": 178,
   "metadata": {},
   "outputs": [],
   "source": [
    "## LETS SEPERATE THE DATA INTO TEST AND TRAIN\n",
    "import pandas as pd\n",
    "from sklearn.model_selection import train_test_split"
   ]
  },
  {
   "cell_type": "code",
   "execution_count": 179,
   "metadata": {},
   "outputs": [],
   "source": [
    "X_train, X_valid, y_train, y_valid = train_test_split(X, Y,test_size=0.33,random_state=42)"
   ]
  },
  {
   "cell_type": "code",
   "execution_count": 180,
   "metadata": {},
   "outputs": [
    {
     "name": "stdout",
     "output_type": "stream",
     "text": [
      "84     1\n",
      "124    0\n",
      "332    0\n",
      "122    1\n",
      "311    1\n",
      "      ..\n",
      "65     1\n",
      "191    1\n",
      "10     0\n",
      "240    0\n",
      "276    0\n",
      "Name: Group, Length: 111, dtype: int64\n"
     ]
    }
   ],
   "source": [
    "print(y_valid)"
   ]
  },
  {
   "cell_type": "code",
   "execution_count": 181,
   "metadata": {},
   "outputs": [],
   "source": [
    "from sklearn.impute import SimpleImputer\n",
    "\n",
    "# Imputation\n",
    "my_imputer = SimpleImputer()\n",
    "imputed_X_train = pd.DataFrame(my_imputer.fit_transform(X_train))\n",
    "imputed_X_valid = pd.DataFrame(my_imputer.transform(X_valid))\n",
    "\n",
    "# Imputation removed column names; put them back\n",
    "imputed_X_train.columns = X_train.columns\n",
    "imputed_X_valid.columns = X_valid.columns"
   ]
  },
  {
   "cell_type": "code",
   "execution_count": 182,
   "metadata": {},
   "outputs": [
    {
     "name": "stdout",
     "output_type": "stream",
     "text": [
      "     M/F   Age  EDUC  SES  MMSE  CDR    eTIV   nWBV    ASF\n",
      "0    1.0  83.0  15.0  2.0  20.0  0.5  1476.0  0.750  1.189\n",
      "1    0.0  91.0  16.0  1.0  28.0  0.0  1640.0  0.670  1.070\n",
      "2    0.0  82.0  12.0  3.0  27.0  0.5  1420.0  0.713  1.236\n",
      "3    1.0  75.0  12.0  3.0  29.0  0.0  1338.0  0.747  1.312\n",
      "4    1.0  71.0  14.0  2.0  28.0  0.0  1461.0  0.756  1.202\n",
      "..   ...   ...   ...  ...   ...  ...     ...    ...    ...\n",
      "220  0.0  77.0  16.0  2.0  30.0  0.0  1628.0  0.709  1.078\n",
      "221  0.0  88.0   6.0  4.0  23.0  0.5  1348.0  0.713  1.302\n",
      "222  1.0  81.0  12.0  2.0  30.0  0.0  1599.0  0.755  1.098\n",
      "223  1.0  82.0  13.0  2.0  30.0  0.0  1342.0  0.747  1.307\n",
      "224  0.0  65.0  13.0  3.0  29.0  0.0  1362.0  0.837  1.289\n",
      "\n",
      "[225 rows x 9 columns]\n"
     ]
    }
   ],
   "source": [
    "print(imputed_X_train)"
   ]
  },
  {
   "cell_type": "code",
   "execution_count": 183,
   "metadata": {},
   "outputs": [
    {
     "data": {
      "text/plain": [
       "RandomForestClassifier(bootstrap=True, ccp_alpha=0.0, class_weight=None,\n",
       "                       criterion='gini', max_depth=None, max_features='auto',\n",
       "                       max_leaf_nodes=None, max_samples=None,\n",
       "                       min_impurity_decrease=0.0, min_impurity_split=None,\n",
       "                       min_samples_leaf=1, min_samples_split=2,\n",
       "                       min_weight_fraction_leaf=0.0, n_estimators=100,\n",
       "                       n_jobs=None, oob_score=False, random_state=None,\n",
       "                       verbose=0, warm_start=False)"
      ]
     },
     "execution_count": 183,
     "metadata": {},
     "output_type": "execute_result"
    }
   ],
   "source": [
    "from sklearn.ensemble import RandomForestClassifier\n",
    "rf=RandomForestClassifier()\n",
    "rf.fit(imputed_X_train,y_train)"
   ]
  },
  {
   "cell_type": "code",
   "execution_count": 184,
   "metadata": {},
   "outputs": [],
   "source": [
    "y_pred=rf.predict(imputed_X_valid)"
   ]
  },
  {
   "cell_type": "code",
   "execution_count": 186,
   "metadata": {},
   "outputs": [
    {
     "data": {
      "text/plain": [
       "0.9920634920634921"
      ]
     },
     "execution_count": 186,
     "metadata": {},
     "output_type": "execute_result"
    }
   ],
   "source": [
    "from sklearn.metrics import roc_curve,auc\n",
    "false_positive_rate,true_positive_rate,theresholds=roc_curve(y_valid,y_pred)\n",
    "roc_auc=auc(false_positive_rate,true_positive_rate)\n",
    "roc_auc"
   ]
  },
  {
   "cell_type": "code",
   "execution_count": null,
   "metadata": {},
   "outputs": [],
   "source": []
  },
  {
   "cell_type": "code",
   "execution_count": null,
   "metadata": {},
   "outputs": [],
   "source": []
  },
  {
   "cell_type": "code",
   "execution_count": null,
   "metadata": {},
   "outputs": [],
   "source": []
  }
 ],
 "metadata": {
  "kernelspec": {
   "display_name": "Python 3",
   "language": "python",
   "name": "python3"
  },
  "language_info": {
   "codemirror_mode": {
    "name": "ipython",
    "version": 3
   },
   "file_extension": ".py",
   "mimetype": "text/x-python",
   "name": "python",
   "nbconvert_exporter": "python",
   "pygments_lexer": "ipython3",
   "version": "3.7.6"
  }
 },
 "nbformat": 4,
 "nbformat_minor": 4
}
